{
 "cells": [
  {
   "cell_type": "code",
   "execution_count": 2,
   "id": "06fddff5",
   "metadata": {
    "pycharm": {
     "name": "#%%\n"
    }
   },
   "outputs": [],
   "source": [
    "import sqlite3\n",
    "con = sqlite3.connect(\"./smfdb/smfDatabase.db\")"
   ]
  },
  {
   "cell_type": "code",
   "execution_count": 3,
   "id": "708d1984",
   "metadata": {
    "pycharm": {
     "name": "#%%\n"
    }
   },
   "outputs": [],
   "source": [
    "cursor = con.cursor()"
   ]
  },
  {
   "cell_type": "code",
   "execution_count": 4,
   "id": "e203649c",
   "metadata": {
    "pycharm": {
     "name": "#%%\n"
    }
   },
   "outputs": [],
   "source": [
    "sqlite_insert_query = \"\"\"INSERT INTO useCustomerModels\n",
    "                          (TrainedModelId, Traindate) \n",
    "                           VALUES \n",
    "                          (1,'01-01-2022')\"\"\""
   ]
  },
  {
   "cell_type": "code",
   "execution_count": 5,
   "id": "8c32ad48",
   "metadata": {
    "pycharm": {
     "name": "#%%\n"
    }
   },
   "outputs": [],
   "source": [
    "count = cursor.execute(sqlite_insert_query)"
   ]
  },
  {
   "cell_type": "code",
   "execution_count": 7,
   "id": "d5950231",
   "metadata": {
    "pycharm": {
     "name": "#%%\n"
    }
   },
   "outputs": [],
   "source": [
    "con.commit()"
   ]
  },
  {
   "cell_type": "code",
   "execution_count": 8,
   "id": "7d54cf89",
   "metadata": {
    "pycharm": {
     "name": "#%%\n"
    }
   },
   "outputs": [],
   "source": [
    "cursor.close()"
   ]
  },
  {
   "cell_type": "code",
   "execution_count": 10,
   "id": "7ef50253",
   "metadata": {
    "pycharm": {
     "name": "#%%\n"
    }
   },
   "outputs": [
    {
     "name": "stderr",
     "output_type": "stream",
     "text": [
      "2022-08-17 01:05:46,865| ERROR   | Socket exception: Varolan bir bağlantı uzaktaki bir ana bilgisayar tarafından zorla kapatıldı (10054)\n",
      "2022-08-17 01:05:46,881| ERROR   | Socket exception: Varolan bir bağlantı uzaktaki bir ana bilgisayar tarafından zorla kapatıldı (10054)\n",
      "2022-08-17 01:05:46,881| ERROR   | Socket exception: Varolan bir bağlantı uzaktaki bir ana bilgisayar tarafından zorla kapatıldı (10054)\n",
      "2022-08-17 01:05:46,881| ERROR   | Socket exception: Varolan bir bağlantı uzaktaki bir ana bilgisayar tarafından zorla kapatıldı (10054)\n"
     ]
    }
   ],
   "source": [
    "import sshtunnel\n",
    "from sqlalchemy import create_engine\n",
    "SSH_USERNAME = 'smftahmin'\n",
    "SSH_PASSWORD = 'Hitsoft-ArGeBMR2022!'\n",
    "REMOTE_BIND_ADRESS = 'smftahmin.mysql.pythonanywhere-services.com'\n",
    "PORT = 3306\n",
    "DB_NAME = 'smftahmin$SmfGui'\n",
    "DB_PASSWORD = 'HitsoftArge2022'\n",
    "HOST = '127.0.0.1'\n",
    "\n",
    "#pythonanywhere mysql bağlantısı\n",
    "tunnel = sshtunnel.SSHTunnelForwarder(('ssh.pythonanywhere.com'),\n",
    "                                      ssh_username=SSH_USERNAME,\n",
    "                                      ssh_password=SSH_PASSWORD,\n",
    "                                      remote_bind_address=(REMOTE_BIND_ADRESS,PORT)\n",
    "                                      )\n",
    "tunnel.start()\n",
    "con = f'mysql://{SSH_USERNAME}:{DB_PASSWORD}@{HOST}:{tunnel.local_bind_port}/{DB_NAME}'\n",
    "con = create_engine(con)\n"
   ]
  },
  {
   "cell_type": "code",
   "execution_count": 9,
   "id": "bfc9802c",
   "metadata": {
    "pycharm": {
     "name": "#%%\n"
    }
   },
   "outputs": [
    {
     "data": {
      "text/html": [
       "<div>\n",
       "<style scoped>\n",
       "    .dataframe tbody tr th:only-of-type {\n",
       "        vertical-align: middle;\n",
       "    }\n",
       "\n",
       "    .dataframe tbody tr th {\n",
       "        vertical-align: top;\n",
       "    }\n",
       "\n",
       "    .dataframe thead th {\n",
       "        text-align: right;\n",
       "    }\n",
       "</style>\n",
       "<table border=\"1\" class=\"dataframe\">\n",
       "  <thead>\n",
       "    <tr style=\"text-align: right;\">\n",
       "      <th></th>\n",
       "      <th>Id</th>\n",
       "      <th>Name</th>\n",
       "    </tr>\n",
       "  </thead>\n",
       "  <tbody>\n",
       "  </tbody>\n",
       "</table>\n",
       "</div>"
      ],
      "text/plain": [
       "Empty DataFrame\n",
       "Columns: [Id, Name]\n",
       "Index: []"
      ]
     },
     "execution_count": 9,
     "metadata": {},
     "output_type": "execute_result"
    }
   ],
   "source": [
    "import pandas as pd\n",
    "\n",
    "pd.read_sql_query('select * from Category',con)"
   ]
  },
  {
   "cell_type": "code",
   "execution_count": 1,
   "outputs": [
    {
     "name": "stderr",
     "output_type": "stream",
     "text": [
      "C:\\Users\\Hitsoft\\anaconda3\\lib\\site-packages\\numpy\\_distributor_init.py:30: UserWarning: loaded more than 1 DLL from .libs:\n",
      "C:\\Users\\Hitsoft\\anaconda3\\lib\\site-packages\\numpy\\.libs\\libopenblas.GK7GX5KEQ4F6UYO3P26ULGBQYHGQO7J4.gfortran-win_amd64.dll\n",
      "C:\\Users\\Hitsoft\\anaconda3\\lib\\site-packages\\numpy\\.libs\\libopenblas.XWYDX2IKJW2NMTWSFYNGFUWKQU3LYTCZ.gfortran-win_amd64.dll\n",
      "  warnings.warn(\"loaded more than 1 DLL from .libs:\"\n"
     ]
    }
   ],
   "source": [
    "json = {\"gonder\":\"true\",\"layer\":[{\"activation\":\"tanh\",\"droupOut\":0.2,\"unit\":50}],\"testDay\":\"01/13/2022\"}"
   ],
   "metadata": {
    "collapsed": false,
    "pycharm": {
     "name": "#%%\n"
    }
   }
  },
  {
   "cell_type": "code",
   "execution_count": 3,
   "outputs": [
    {
     "data": {
      "text/plain": "'01/13/2022'"
     },
     "execution_count": 3,
     "metadata": {},
     "output_type": "execute_result"
    }
   ],
   "source": [
    "json"
   ],
   "metadata": {
    "collapsed": false,
    "pycharm": {
     "name": "#%%\n"
    }
   }
  },
  {
   "cell_type": "code",
   "execution_count": 1,
   "outputs": [
    {
     "name": "stderr",
     "output_type": "stream",
     "text": [
      "C:\\Users\\Hitsoft\\anaconda3\\lib\\site-packages\\numpy\\_distributor_init.py:30: UserWarning: loaded more than 1 DLL from .libs:\n",
      "C:\\Users\\Hitsoft\\anaconda3\\lib\\site-packages\\numpy\\.libs\\libopenblas.GK7GX5KEQ4F6UYO3P26ULGBQYHGQO7J4.gfortran-win_amd64.dll\n",
      "C:\\Users\\Hitsoft\\anaconda3\\lib\\site-packages\\numpy\\.libs\\libopenblas.XWYDX2IKJW2NMTWSFYNGFUWKQU3LYTCZ.gfortran-win_amd64.dll\n",
      "  warnings.warn(\"loaded more than 1 DLL from .libs:\"\n"
     ]
    }
   ],
   "source": [
    "import pandas as pd\n",
    "\n",
    "actual = [2284.0, 2277.0, 2134.0, 2130.0, 2214.0, 2040.0, 1999.0, None, None, None, None, None, None, None, None, None, None, None, None, None, None, None, None, None]\n",
    "\n",
    "predicted = [2284.0, 2277.0, 2134.0, 2130.0, 2214.0, 2040.0, 1999.0, 2284.0, 2277.0, 2134.0, 2130.0, 2214.0, 2040.0, 1999.0, 2284.0, 2277.0, 2134.0, 2130.0, 2214.0, 2040.0, 1999.0,2214.0, 2040.0, 1999.0]"
   ],
   "metadata": {
    "collapsed": false,
    "pycharm": {
     "name": "#%%\n"
    }
   }
  },
  {
   "cell_type": "code",
   "execution_count": 5,
   "outputs": [],
   "source": [],
   "metadata": {
    "collapsed": false,
    "pycharm": {
     "name": "#%%\n"
    }
   }
  },
  {
   "cell_type": "code",
   "execution_count": 2,
   "outputs": [],
   "source": [],
   "metadata": {
    "collapsed": false,
    "pycharm": {
     "name": "#%%\n"
    }
   }
  },
  {
   "cell_type": "code",
   "execution_count": 7,
   "outputs": [
    {
     "name": "stdout",
     "output_type": "stream",
     "text": [
      "[None, None, None, None, None, None, None, None, None, None, None, None, None, None, None, None, None]\n"
     ]
    }
   ],
   "source": [
    "print([x for x in actual if x in [None]])"
   ],
   "metadata": {
    "collapsed": false,
    "pycharm": {
     "name": "#%%\n"
    }
   }
  },
  {
   "cell_type": "code",
   "execution_count": 3,
   "outputs": [],
   "source": [],
   "metadata": {
    "collapsed": false,
    "pycharm": {
     "name": "#%%\n"
    }
   }
  },
  {
   "cell_type": "code",
   "execution_count": null,
   "outputs": [],
   "source": [],
   "metadata": {
    "collapsed": false,
    "pycharm": {
     "name": "#%%\n"
    }
   }
  }
 ],
 "metadata": {
  "kernelspec": {
   "display_name": "Python 3 (ipykernel)",
   "language": "python",
   "name": "python3"
  },
  "language_info": {
   "codemirror_mode": {
    "name": "ipython",
    "version": 3
   },
   "file_extension": ".py",
   "mimetype": "text/x-python",
   "name": "python",
   "nbconvert_exporter": "python",
   "pygments_lexer": "ipython3",
   "version": "3.9.7"
  }
 },
 "nbformat": 4,
 "nbformat_minor": 5
}