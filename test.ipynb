{
 "cells": [
  {
   "cell_type": "code",
   "execution_count": 1,
   "metadata": {
    "collapsed": true,
    "pycharm": {
     "name": "#%%\n"
    }
   },
   "outputs": [],
   "source": [
    "import sshtunnel\n",
    "from flask import Flask\n",
    "from flask_migrate import Migrate\n",
    "from flask_wtf.csrf import CSRFProtect\n",
    "from flask_sqlalchemy import SQLAlchemy\n",
    "from dbenv import SSH_USERNAME,SSH_PASSWORD,DB_NAME,DB_PASSWORD,HOST,PORT,REMOTE_BIND_ADRESS\n",
    "from datetime import datetime\n",
    "from flask_bootstrap import Bootstrap\n",
    "\n",
    "#pythonanywhere mysql bağlantısı\n",
    "tunnel = sshtunnel.SSHTunnelForwarder(('ssh.pythonanywhere.com'),\n",
    "                                      ssh_username=SSH_USERNAME,\n",
    "                                      ssh_password=SSH_PASSWORD,\n",
    "                                      remote_bind_address=(REMOTE_BIND_ADRESS,PORT)\n",
    "                                      )\n",
    "tunnel.start()\n",
    "app = Flask(__name__)\n",
    "\n",
    "@app.context_processor\n",
    "def today():\n",
    "    return {'now': datetime.now().strftime(\"%Y-%m-%d\")}\n",
    "\n",
    "\n",
    "app.config['SECRET_KEY'] = \"KFAŞLKDJAFIDSFcnzndklsfjsdfjs\"\n",
    "app.config['SQLALCHEMY_DATABASE_URI'] = f'mysql://{SSH_USERNAME}:{DB_PASSWORD}@{HOST}:{tunnel.local_bind_port}/{DB_NAME}'\n",
    "\n",
    "csrf = CSRFProtect(app)\n",
    "db = SQLAlchemy(app)\n",
    "Bootstrap(app)\n",
    "\n",
    "migrate = Migrate(app,db)"
   ]
  },
  {
   "cell_type": "code",
   "execution_count": 1,
   "outputs": [],
   "source": [],
   "metadata": {
    "collapsed": false,
    "pycharm": {
     "name": "#%%\n"
    }
   }
  },
  {
   "cell_type": "code",
   "execution_count": 17,
   "outputs": [],
   "source": [
    "from mod_forecast.model import getBydate,getnotnulldata,getnulldata\n",
    "import pandas as pd\n",
    "import numpy as np"
   ],
   "metadata": {
    "collapsed": false,
    "pycharm": {
     "name": "#%%\n"
    }
   }
  },
  {
   "cell_type": "code",
   "execution_count": 17,
   "outputs": [],
   "source": [],
   "metadata": {
    "collapsed": false,
    "pycharm": {
     "name": "#%%\n"
    }
   }
  },
  {
   "cell_type": "code",
   "execution_count": 18,
   "outputs": [],
   "source": [
    "def mean_absolute_percentage_error(y_true, y_pred):\n",
    "    y_true, y_pred = np.array(y_true), np.array(y_pred)\n",
    "    return np.mean(np.abs((y_true - y_pred) / y_true)) * 100"
   ],
   "metadata": {
    "collapsed": false,
    "pycharm": {
     "name": "#%%\n"
    }
   }
  },
  {
   "cell_type": "code",
   "execution_count": 52,
   "outputs": [],
   "source": [
    "#@app.route('/traindate/<date>,<hours>',methods=['POST','GET'])\n",
    "\n",
    "import json\n",
    "\n",
    "def traindate( date , hours ):\n",
    "    if getBydate(str(pd.to_datetime(date).date())):\n",
    "        actual=[row.GercekDeger for row in getBydate(str(pd.to_datetime(date).date()))[:int(hours)]]\n",
    "        predicted = [row.TahminiDeger for row in getBydate(str(pd.to_datetime(date).date()))[:int(hours)]]\n",
    "\n",
    "        for_mape_actual = [x for x in actual if x not in [None]]\n",
    "        for_mape_predicted = predicted[:len([x for x in actual if x not in [None]])]\n",
    "        now_mape=mean_absolute_percentage_error(for_mape_actual,for_mape_predicted)\n",
    "        return now_mape, actual,predicted\n",
    "\n",
    "\n",
    "#@app.route('/')\n",
    "#def index():\n",
    "#    return \"Hello World\"\n",
    "#\n",
    "#if __name__ == '__main__':\n",
    "#    app.run(port=5998)\n",
    "\n"
   ],
   "metadata": {
    "collapsed": false,
    "pycharm": {
     "name": "#%%\n"
    }
   }
  },
  {
   "cell_type": "code",
   "execution_count": 2,
   "outputs": [],
   "source": [
    "from flask import Blueprint,request,jsonify,abort\n",
    "from flask_jwt_extended import jwt_required,get_jwt_identity\n",
    "import numpy as np\n",
    "import pandas as pd\n",
    "mod_deeplearningV1 = Blueprint('customer',__name__)\n",
    "mod_deeplearningV2 = Blueprint('developer',__name__)\n"
   ],
   "metadata": {
    "collapsed": false,
    "pycharm": {
     "name": "#%%\n"
    }
   }
  },
  {
   "cell_type": "code",
   "execution_count": 51,
   "outputs": [],
   "source": [
    "\n",
    "@mod_deeplearningV2.route('/calculatebenefit',methods=[\"POST\"])\n",
    "def dashboardCalculateBenefit_hit():\n",
    "    from mod_forecast_hit.model import allForecastBySFId, allForecastBydev\n",
    "    if request.method == \"POST\":\n",
    "        req_jeson = request.json\n",
    "        companyId = req_jeson['companyId']\n",
    "        from mod_storeandforward_hit.model import getModelsByCompany\n",
    "        if len(getModelsByCompany(companyId)) == 0:\n",
    "            return jsonify(\n",
    "                message=\"There is no entry submitted by user. Select specify entry to be processed.\"), 409  # ?\n",
    "        else:\n",
    "            sf_id = []\n",
    "            for i in getModelsByCompany(companyId):\n",
    "                sf_id.append(i.Id)\n",
    "            allForecastByCompany = {\"Datetime\": [],\n",
    "                                    \"Actual\": [],\n",
    "                                    \"Prediction\": []}\n",
    "            for i in allForecastBydev(sf_id):\n",
    "                allForecastByCompany[\"Datetime\"].append(i.Tarih)\n",
    "                allForecastByCompany[\"Actual\"].append(i.GercekDeger)\n",
    "                allForecastByCompany[\"Prediction\"].append(i.TahminiDeger)\n",
    "            return jsonify(\n",
    "                {'Data': {'Date': allForecastByCompany[\"Datetime\"],\n",
    "                          'Actual': allForecastByCompany[\"Actual\"],\n",
    "                          'Predicted': allForecastByCompany['Prediction']}})\n"
   ],
   "metadata": {
    "collapsed": false,
    "pycharm": {
     "name": "#%%\n"
    }
   }
  },
  {
   "cell_type": "code",
   "execution_count": null,
   "outputs": [],
   "source": [],
   "metadata": {
    "collapsed": false,
    "pycharm": {
     "name": "#%%\n"
    }
   }
  },
  {
   "cell_type": "code",
   "execution_count": null,
   "outputs": [],
   "source": [],
   "metadata": {
    "collapsed": false,
    "pycharm": {
     "name": "#%%\n"
    }
   }
  },
  {
   "cell_type": "code",
   "execution_count": null,
   "outputs": [],
   "source": [],
   "metadata": {
    "collapsed": false,
    "pycharm": {
     "name": "#%%\n"
    }
   }
  },
  {
   "cell_type": "code",
   "execution_count": null,
   "outputs": [],
   "source": [],
   "metadata": {
    "collapsed": false,
    "pycharm": {
     "name": "#%%\n"
    }
   }
  }
 ],
 "metadata": {
  "kernelspec": {
   "display_name": "Python 3",
   "language": "python",
   "name": "python3"
  },
  "language_info": {
   "codemirror_mode": {
    "name": "ipython",
    "version": 2
   },
   "file_extension": ".py",
   "mimetype": "text/x-python",
   "name": "python",
   "nbconvert_exporter": "python",
   "pygments_lexer": "ipython2",
   "version": "2.7.6"
  }
 },
 "nbformat": 4,
 "nbformat_minor": 0
}